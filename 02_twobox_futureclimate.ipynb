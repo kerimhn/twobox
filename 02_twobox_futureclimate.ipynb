{
 "cells": [
  {
   "cell_type": "markdown",
   "id": "a4e18ad1",
   "metadata": {},
   "source": [
    "# Øvelse 5 - Fremtidens klima\n",
    "\n",
    "I denne øvelsen ska vi bruke Toboksmodellen til å se korleis klimaet kommer til å endrer sig de neste 100 årene frem mot år 2100. Vi ska se på ulike fremskrivninger for strålingspådriv som er basert på ulike **sosioøkonomiske utviklingsbaner**. Det er de samme data som blir brukt i de komplekse klimamodellene som inngår i den nyeste IPCC rapporten.  \n",
    "\n",
    "Vi skal beregne den fremtidige temperaturendringen med Toboksmodellen basert på disse utviklingsbanene, og sammenlikne med resultatene fra de globalle klimamodellene. Til slutt ska vi diskutere noen av de usikkerheter som er forbundet med klimaprognosene. Dette ska gi en økt forståelse av hvilke faktorer som påvirker fremtidens klima og samtidig forstå begrensninngene av klimamodellene i deres evne til å spå om fremtiden. \n"
   ]
  },
  {
   "cell_type": "code",
   "execution_count": null,
   "id": "f91c54ca",
   "metadata": {},
   "outputs": [],
   "source": []
  },
  {
   "cell_type": "markdown",
   "id": "2797353a",
   "metadata": {},
   "source": [
    "## Sosioøkonomiske utviklingsbaner (SSPs)\n",
    "\n",
    "For å kjøre toboksmodellen trenger vi information om det fremtidige strålingspådriv. Dette er representert gjennom de såkalte **sosioøkonomiske utviklingsbaner**  (Shared Socioeconomic Pathways; SSP). De inkluderer bla utfordringer innen tilpasning og utslippsreduserende tiltak, som populasjon, økonomisk vekst, utdanning, urbanisering og teknologisk utvikling.\n",
    "\n",
    "<figure>\n",
    "<img src=\"bilder/ssp_scenarier.png\" style=\"width:50%\" bla >\n",
    "<figcaption align = \"center\"> Kilde: IPCC </figcaption>\n",
    "</figure>\n",
    "\n",
    "Utviklingsbanene beskriver fem alternative sosioøkonomiske framtider:\n",
    "\n",
    "*    SSP1: Bærekraftig utvikling\n",
    "*    SSP2: En middelvei\n",
    "*    SSP3: Regional rivalisering\n",
    "*    SSP4: Ulikhet\n",
    "*    SSP5: Fossildrevet utvikling\n",
    "\n",
    "Her ska vi særligt fokusere på de to yderpunktene: den Bærekraftige utviklingsbanen (SSP1) og den Fossildrevet utviklingsbanen (SSP5).\n"
   ]
  },
  {
   "cell_type": "code",
   "execution_count": 3,
   "id": "372a8b75",
   "metadata": {},
   "outputs": [],
   "source": [
    "# Lese inn relavente python pakker vi ska bruke\n",
    "import pandas as pd\n",
    "import matplotlib.pyplot as plt\n",
    "#%matplotlib notebook # inkluder denne linjen om du vil åpne i Jupyter Notebook og vil lage interaktive plott\n",
    "%matplotlib inline\n",
    "\n",
    "from toboks import calculate_temp_anomalies # henter funksjonen som beregner temperaturanomalier basert på toboksmodellen"
   ]
  },
  {
   "cell_type": "markdown",
   "id": "481d48d1",
   "metadata": {},
   "source": [
    "## Les inn fremtids data (OBS IKKE OPDATERT MED NYE DATA)\n",
    "\n",
    "Fremtidsdata for strålingspådriv er gemt i filen `futureForcing.csv` og dekker perioden fra år ????-2100. Som i de forrige øvelser er strålingspådrivet opdelt i bidrag fra drivhusgasser, solinnstråling .... *Bemærk at vulkanisk akivitet ikke er inkludert siden det ikke er så lett å spå om framtidige vulkanutbrudd.* \n",
    "\n",
    "* **Bruk koden nedenfor for å laste inn `futureForcing.csv`**"
   ]
  },
  {
   "cell_type": "code",
   "execution_count": 5,
   "id": "1e50dbe3",
   "metadata": {},
   "outputs": [
    {
     "name": "stdout",
     "output_type": "stream",
     "text": [
      "Strålingspådriv i W/m2 \n",
      " \n",
      "       SSP1-2.6  SSP5-8.5  Unnamed: 3  Unnamed: 4  Unnamed: 5  Unnamed: 6  \\\n",
      "year                                                                       \n",
      "1750     0.298     0.298         NaN         NaN         NaN         NaN   \n",
      "1751     0.286     0.286         NaN         NaN         NaN         NaN   \n",
      "1752     0.261     0.261         NaN         NaN         NaN         NaN   \n",
      "1753     0.224     0.224         NaN         NaN         NaN         NaN   \n",
      "1754     0.184     0.184         NaN         NaN         NaN         NaN   \n",
      "...        ...       ...         ...         ...         ...         ...   \n",
      "2496     2.108    12.199         NaN         NaN         NaN         NaN   \n",
      "2497     2.107    12.196         NaN         NaN         NaN         NaN   \n",
      "2498     2.106    12.194         NaN         NaN         NaN         NaN   \n",
      "2499     2.106    12.192         NaN         NaN         NaN         NaN   \n",
      "2500     2.105    12.191         NaN         NaN         NaN         NaN   \n",
      "\n",
      "         total    total.1  \n",
      "year                       \n",
      "1750  0.297568   0.297568  \n",
      "1751  0.286266   0.286266  \n",
      "1752  0.261437   0.261437  \n",
      "1753  0.224236   0.224236  \n",
      "1754  0.184178   0.184178  \n",
      "...        ...        ...  \n",
      "2496  2.107866  12.198566  \n",
      "2497  2.107131  12.196315  \n",
      "2498  2.106400  12.194090  \n",
      "2499  2.105670  12.191895  \n",
      "2500  2.105301  12.190719  \n",
      "\n",
      "[751 rows x 8 columns]\n"
     ]
    }
   ],
   "source": [
    "df=pd.read_csv('forcing-files/futureForcing_IPCC6.csv',index_col = 0,sep=',',encoding = \"utf-8\")\n",
    "\n",
    "print('Strålingspådriv i W/m2 \\n \\n', df)"
   ]
  },
  {
   "cell_type": "markdown",
   "id": "9f5650e8",
   "metadata": {},
   "source": [
    "## Fremtidsscenarier med Toboksmodellen \n",
    "\n",
    "* Forsøk#1:'SSP1', bruk strålingspådriv for SSP1 med alle tilbakekoblingsmekanismer slået på. \n",
    "\n",
    "* Forsøk#2:'SSP5', bruk strålingspådriv for SSP5 med alle tilbakekoblingsmekanismer slået på. \n",
    "\n",
    "For begge forsøk bruker vi de samme tilbakekoblingsverdier som i Øvelse 3, som er basert på middelsverdier hentet fra de globale klimamodellene. \n"
   ]
  },
  {
   "cell_type": "markdown",
   "id": "b2697754",
   "metadata": {},
   "source": [
    "**Beregn samlet strålingspådriv og sett verdier for varmeoptakk i havet (gamma) og tilbakekoblingseffekter (lambda)**"
   ]
  },
  {
   "cell_type": "code",
   "execution_count": 7,
   "id": "f708fc47",
   "metadata": {},
   "outputs": [],
   "source": [
    "# varmeoptakk i havet [Wm-2K-1]                                                                                                                                                                           #//\n",
    "gamma=-0.69  \n",
    "\n",
    "# sett tilbakekoblingseffekter\n",
    "lambda_planck=-3.22     # Stefan Boltzmann's 'feedback' [Wm-2K-1] best guesses  [-3.3 to -3.1]                       \n",
    "lambda_lapse=-0.5      # Lapse rate feedback [Wm-2K-1] best guesses [-1.2 to -0.5]                                  \n",
    "lambda_vanndamp=1.77       # water vapor feedback [Wm-2K-1] best guesses [1.5 to 2.2]                                   \n",
    "lambda_sky=0.42      # Clouds feedback [Wm-2K-1] best guesses [0.1 to 1.2]                                       \n",
    "lambda_albedo=0.35     # Surface albedo feedback [Wm-2K-1] best guesses [0.1 to 0.4]           \n",
    "\n",
    "# Summen av disse \n",
    "lambda_sum=sum([lambda_planck,                                                                                      \n",
    "    lambda_lapse,                                                                                                   \n",
    "    lambda_vanndamp,                                                                                                   \n",
    "    lambda_sky,                                                                                                   \n",
    "    lambda_albedo]) "
   ]
  },
  {
   "cell_type": "markdown",
   "id": "b25a71b8",
   "metadata": {},
   "source": [
    "**Kjør toboksmodellen for de to utslippsscenarioene med gjennomsnittsverdien for lamda_sum og studer plottet**"
   ]
  },
  {
   "cell_type": "code",
   "execution_count": 14,
   "id": "e6445760",
   "metadata": {},
   "outputs": [
    {
     "data": {
      "image/png": "[encoded data removed]",
      "text/plain": [
       "<Figure size 432x288 with 1 Axes>"
      ]
     },
     "metadata": {
      "needs_background": "light"
     },
     "output_type": "display_data"
    }
   ],
   "source": [
    "# lager en ny tom dataramme med samme index som den orginale\n",
    "temp = pd.DataFrame(index=df.index)\n",
    "\n",
    "# kaller opp funksjonen som regner ut temperaturendringene                                                          \n",
    "temp['Ts_SSP1'], To = calculate_temp_anomalies(df['SSP1-2.6'].to_numpy(), lambda_sum, gamma)      # SSP1         \n",
    "temp['Ts_SSP5'], To = calculate_temp_anomalies(df['SSP5-8.5'].to_numpy(), lambda_sum, gamma)      # SSP5         \n",
    "\n",
    "#plotter innholdet i datarammen, starter plottet i 1880\n",
    "temp.loc[1880:2100].plot(ylabel=\"$\\Delta T$  $[^oC]$\")\n",
    "plt.axhline(y=0, linewidth=0.7, color=\"black\")                                                                      \n",
    "plt.grid(alpha=0.4, ls='--')  \n",
    "plt.show()"
   ]
  },
  {
   "cell_type": "markdown",
   "id": "058af6ab",
   "metadata": {},
   "source": [
    "## Korriger nullnivået (MÅ KANSJE ENDRES SÅ DET PASSER MED NYESTE RAPPORT)\n",
    "\n",
    "Når politikere og medier snakker om 2-gradersmålet er det beregnet ut ifra en gjennosnittsverdi for periode 1986-2005. Våre resultater er beregnet utfra at 1750 var normalen. For å sammenligne våre modeller med de som presenteres i media (og IPCC rapporten) kan vi korrigere datasettet vårt ved å trekke fra gjennomsnittsverdien til modellen for perioden 1986 til 2005."
   ]
  },
  {
   "cell_type": "code",
   "execution_count": 13,
   "id": "a1cc085e",
   "metadata": {},
   "outputs": [
    {
     "data": {
      "image/png": "[encoded data removed]",
      "text/plain": [
       "<Figure size 432x288 with 1 Axes>"
      ]
     },
     "metadata": {
      "needs_background": "light"
     },
     "output_type": "display_data"
    }
   ],
   "source": [
    "# lager en ny tom dataramme med samme index som den orginale\n",
    "Tanom = pd.DataFrame(index=df.index)\n",
    "\n",
    "# temperature anomali fra perioden 1986-2005\n",
    "Tanom['Ts_SSP1'] =  temp['Ts_SSP1']- temp['Ts_SSP1'].loc[1986:2005].mean() # temp. anomaly\n",
    "Tanom['Ts_SSP5'] =  temp['Ts_SSP5']- temp['Ts_SSP5'].loc[1986:2005].mean() # temp. anomaly\n",
    "\n",
    "# make plot\n",
    "#plotter innholdet i datarammen, starter plottet i 1880\n",
    "Tanom.loc[1880:2100].plot(ylabel=\"$\\Delta T$  $[^oC]$\", title='Endring i overflatetemperatur relativt til perioden 1986-2005')\n",
    "plt.axhline(y=0, linewidth=0.7, color=\"black\")                                                                      \n",
    "plt.grid(alpha=0.4, ls='--')  \n",
    "plt.show()          \n"
   ]
  },
  {
   "cell_type": "markdown",
   "id": "c7d55922",
   "metadata": {},
   "source": [
    "**Finn temperaturendringen i år 2100**"
   ]
  },
  {
   "cell_type": "code",
   "execution_count": 13,
   "id": "3055ad74",
   "metadata": {},
   "outputs": [
    {
     "name": "stdout",
     "output_type": "stream",
     "text": [
      "Temperature change at year 2090 : 0.79 °C\n"
     ]
    }
   ],
   "source": [
    "year = 2090\n",
    "Tloc = Tanom['Ts_SSP1'].loc[year]\n",
    "print('Temperature change at year', year, ':', \"%.2f\" %(Tloc),'°C')"
   ]
  },
  {
   "cell_type": "markdown",
   "id": "42e84e94",
   "metadata": {},
   "source": [
    "# Spørgsmål til opgaven"
   ]
  },
  {
   "cell_type": "markdown",
   "id": "76c82dd7",
   "metadata": {},
   "source": [
    "### 1 - Investigate the temperature change into the future\n",
    "\n",
    "* Hva er det samlede strålingspådriv (i W/m2) i år 2100 for SSP1 og SSP5?\n",
    "\n",
    "* Calculate the change in surface temperature relative to year 1986-2005 (same as used by IPCC AR5)\n",
    "\n",
    "* Hva er temperaturendringen i år 2100 (relativt til 1986-2005) for SSP1 og SSP5?\n",
    "\n",
    "* Hva er den viktigste årsaken til disse ændringer? \n"
   ]
  },
  {
   "cell_type": "markdown",
   "id": "42a4a3d6",
   "metadata": {},
   "source": [
    "## 2 - Sammenlign med de globalle klimamodellene \n",
    "\n",
    "I plottet nedenfor vises den globalle temperaturendringen simulert av de nyeste og mest avancerte klimamodellene. \n",
    "\n",
    "**OBS: ADD PLOT OF CMIP6 MODELS**\n",
    "\n",
    "<img src=\"bilder/AR5-temp-change-to-2100.png\" style=\"width:50%\" >\n",
    "\n",
    "* Undersøk plottet og diksuter hvordan vores simple Toboksmodel klarer sig i forhold til de globalle modellene. \n",
    "\n",
    "I plottet ser vi at der er ganske stor spredning i temperaturutviklingen blant de globalle modellene.  \n",
    "\n",
    "* Hva tror du er den viktiske årsaken til denne usikkerhet i fremtidsprojektionene? Mulige årsaker ku være:\n",
    "    * Usikkerhet i forcing\n",
    "    * Usikkerhet i model-fysik (fx. hvordan skyer er representert)\n",
    "    * Intern klimavariabilitet\n",
    "    \n",
    "* Hvorfor tror du at spredningen vokser jo lengere vi kommer ut i fremtiden?\n",
    "    "
   ]
  },
  {
   "cell_type": "markdown",
   "id": "f4a2e7f2",
   "metadata": {},
   "source": [
    "# 3 - Lagg din egen \"multi-model\" ensemble\n",
    "\n",
    "A model-ensemble describes a collection of models typically performing the same set of experiments, i.e. like the CMIP5 climate models shown in the first figure. Although we only have one model (2boxmodel), we can still mimic this by choosing different values for the feedback parameters and running the RCP2.6 and RCP8.5 experiments again. \n",
    "\n",
    "In the runs above we used the mean values for the feedback parameters from the table below. Now, perform two additional runs (repeat for both RCP2.6 and RCP8.5):\n",
    "\n",
    "* Run#3&5 - picking the *minimum* values for the feedback parameters (see table)\n",
    "* Run#4&6 - picking the *maximum* values for the feedback parameters (see table)\n",
    "\n",
    "<img src=\"bilder/table_lambda_values_AR6.png\" style=\"width:100%\" >"
   ]
  },
  {
   "cell_type": "code",
   "execution_count": 30,
   "id": "aad87839",
   "metadata": {},
   "outputs": [
    {
     "data": {
      "image/png": "[encoded data removed]",
      "text/plain": [
       "<Figure size 432x288 with 1 Axes>"
      ]
     },
     "metadata": {
      "needs_background": "light"
     },
     "output_type": "display_data"
    }
   ],
   "source": [
    "\n",
    "lambda_planck = (-3.22, -3.4, -3.0, 'high')\n",
    "lamdba_WV = (1.77, 1.57, 1.97, 'high') # from Zelinka et al., 2020 (one standard deviation)\n",
    "lamdba_LR = (-0.5, -0.7, -0.3, 'high') # from Dessler, 2013; Caldwell et al., 2016; Colman and Hanson, 2017; Zelinka et al., 2020 (one standard deviation)\n",
    "lambda_albedo = (0.35, 0.1, 0.6, 'medium')\n",
    "lambda_cloud = (0.42, -0.1, 0.94, 'high')\n",
    "\n",
    "lambda_sum_min = lambda_planck[1] + lamdba_WV[1] +lamdba_LR[1] +lambda_albedo[1] + lambda_cloud[1]\n",
    "lambda_sum_max = lambda_planck[2] + lamdba_WV[2] +lamdba_LR[2] +lambda_albedo[2] + lambda_cloud[2]\n",
    "\n",
    "\n",
    "# kaller opp funksjonen som regner ut temperaturendringene                                                          \n",
    "temp['Ts_SSP1_min'], To = calculate_temp_anomalies(df['SSP1-2.6'].to_numpy(), lambda_sum_min, gamma)      # SSP1  \n",
    "temp['Ts_SSP1_max'], To = calculate_temp_anomalies(df['SSP1-2.6'].to_numpy(), lambda_sum_max, gamma)      # SSP1  \n",
    "\n",
    "temp['Ts_SSP5_min'], To = calculate_temp_anomalies(df['SSP5-8.5'].to_numpy(), lambda_sum_min, gamma)      # SSP5   \n",
    "temp['Ts_SSP5_max'], To = calculate_temp_anomalies(df['SSP5-8.5'].to_numpy(), lambda_sum_max, gamma)      # SSP5   \n",
    "\n",
    "#Lager omhyllingskurver får å vise spredning i resultatet av modellene.\n",
    "temp['Ts_SSP1'].plot(label=' SSP1-2.6 middelsværdi', ylabel=\"$\\Delta T$  $[^oC]$\")\n",
    "temp['Ts_SSP5'].plot(label='SSP1-2.6 middelsværdi')\n",
    "plt.fill_between(temp.index,temp['Ts_SSP1_min'],temp['Ts_SSP1_max'], color='lightblue',alpha=0.2,label='SSP1-2.6')\n",
    "plt.fill_between(temp.index,temp['Ts_SSP5_min'],temp['Ts_SSP5_max'], color='orange',alpha=0.2,label='SSP5-8.5')\n",
    "plt.legend(loc='upper left')\n",
    "plt.xlim(1890,2100)\n",
    "plt.ylim(0,25)\n",
    "plt.show()"
   ]
  },
  {
   "cell_type": "markdown",
   "id": "1e70e1c5",
   "metadata": {},
   "source": [
    "## Ekstra: Hvilken betydning har dyphavet?\n",
    "\n",
    "I øvelse 4 så vi at *havet* spillet en viktig rolle for å ta opp den ekstra varme fra atmosfæren særligt siden den industrielle revolution. Varmeopptaket til havet bidrager altså til at bremse den globalle oppvarmingen i atmosfæren. *Hvordan ser dette ut for fremtidens klima?*\n",
    "\n",
    "Gå opp i programmet bytt ut gamma=-0.69, med gamma=0 og kjør alle cellene på nytt.\n",
    "\n",
    "* Hva sker for overflatetemperaturen (`Ts`) om vi slår av varmeoptaket til havet? \n",
    "\n",
    "* Tror du at havet vil bli ved med at ta opp ekstra varme fra atmosfæren? Hvorfor/hvorfor ikke?"
   ]
  },
  {
   "cell_type": "code",
   "execution_count": null,
   "id": "c69f8949",
   "metadata": {},
   "outputs": [],
   "source": []
  }
 ],
 "metadata": {
  "kernelspec": {
   "display_name": "Python 3 (ipykernel)",
   "language": "python",
   "name": "python3"
  },
  "language_info": {
   "codemirror_mode": {
    "name": "ipython",
    "version": 3
   },
   "file_extension": ".py",
   "mimetype": "text/x-python",
   "name": "python",
   "nbconvert_exporter": "python",
   "pygments_lexer": "ipython3",
   "version": "3.9.12"
  },
  "toc-showcode": false
 },
 "nbformat": 4,
 "nbformat_minor": 5
}
